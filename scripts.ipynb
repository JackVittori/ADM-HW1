{
 "cells": [
  {
   "cell_type": "markdown",
   "id": "3c6e6a68",
   "metadata": {},
   "source": [
    "#### Say \"Hello, World!\" With Python"
   ]
  },
  {
   "cell_type": "code",
   "execution_count": null,
   "id": "894b9889",
   "metadata": {},
   "outputs": [],
   "source": [
    "print(\"Hello, World!\")\n"
   ]
  },
  {
   "cell_type": "markdown",
   "id": "cfe58363",
   "metadata": {},
   "source": [
    "#### Python If-Else"
   ]
  },
  {
   "cell_type": "code",
   "execution_count": null,
   "id": "c2e2696b",
   "metadata": {},
   "outputs": [],
   "source": [
    "import math\n",
    "import os\n",
    "import random\n",
    "import re\n",
    "import sys\n",
    "\n",
    "\n",
    "\n",
    "if __name__ == '__main__':\n",
    "    \n",
    "    n = int(input())\n",
    "\n",
    "    if n%2 == 0:\n",
    "        \n",
    "        if 2 <= n <= 5:\n",
    "            \n",
    "            print(\"Not Weird\")\n",
    "            \n",
    "        elif 6 <= n <= 20: \n",
    "            \n",
    "            print(\"Weird\")\n",
    "            \n",
    "        else: \n",
    "            \n",
    "            print(\"Not Weird\")\n",
    "    \n",
    "    else: \n",
    "        \n",
    "        print(\"Weird\")\n"
   ]
  },
  {
   "cell_type": "markdown",
   "id": "c2ac8135",
   "metadata": {},
   "source": [
    "#### Arithmetic Operators"
   ]
  },
  {
   "cell_type": "code",
   "execution_count": null,
   "id": "6bced4a7",
   "metadata": {},
   "outputs": [],
   "source": [
    "if __name__ == '__main__':\n",
    "    \n",
    "    a = int(input())\n",
    "    b = int(input())\n",
    "    \n",
    "    print(a+b)\n",
    "    print(a-b)\n",
    "    print(a*b)\n"
   ]
  },
  {
   "cell_type": "markdown",
   "id": "abd8dbd0",
   "metadata": {},
   "source": [
    "#### Arithmetic Operators"
   ]
  },
  {
   "cell_type": "code",
   "execution_count": null,
   "id": "402c5fa2",
   "metadata": {},
   "outputs": [],
   "source": [
    "if __name__ == '__main__':\n",
    "    \n",
    "    a = int(input())\n",
    "    b = int(input())\n",
    "    \n",
    "    print(a+b)\n",
    "    print(a-b)\n",
    "    print(a*b)\n"
   ]
  },
  {
   "cell_type": "markdown",
   "id": "355434e9",
   "metadata": {},
   "source": [
    "#### Python: Division"
   ]
  },
  {
   "cell_type": "code",
   "execution_count": null,
   "id": "e7f20bc0",
   "metadata": {},
   "outputs": [],
   "source": [
    "if __name__ == '__main__':\n",
    "    a = int(input())\n",
    "    b = int(input())\n",
    "    print(a//b)\n",
    "    print(a/b)\n"
   ]
  },
  {
   "cell_type": "markdown",
   "id": "2ee87754",
   "metadata": {},
   "source": [
    "#### Loops"
   ]
  },
  {
   "cell_type": "code",
   "execution_count": null,
   "id": "b2d2a114",
   "metadata": {},
   "outputs": [],
   "source": [
    "if __name__ == '__main__':\n",
    "    n = int(input())\n",
    "    \n",
    "    for i in range(n): \n",
    "        print(i**2)\n"
   ]
  },
  {
   "cell_type": "markdown",
   "id": "af11d11f",
   "metadata": {},
   "source": [
    "#### Loops"
   ]
  },
  {
   "cell_type": "code",
   "execution_count": null,
   "id": "d31d566f",
   "metadata": {},
   "outputs": [],
   "source": [
    "if __name__ == '__main__':\n",
    "    n = int(input())\n",
    "    \n",
    "    for i in range(n): \n",
    "        print(i**2)\n"
   ]
  },
  {
   "cell_type": "markdown",
   "id": "a0c87c15",
   "metadata": {},
   "source": [
    "#### Write a function"
   ]
  },
  {
   "cell_type": "code",
   "execution_count": null,
   "id": "7d637fb6",
   "metadata": {},
   "outputs": [],
   "source": [
    "def is_leap(year):\n",
    "    \n",
    "    leap = False\n",
    "    \n",
    "    if year%4==0: \n",
    "        \n",
    "        if year%100==0: \n",
    "            \n",
    "            if year%400==0: \n",
    "                \n",
    "                leap = True\n",
    "                \n",
    "            else:\n",
    "                \n",
    "                pass \n",
    "            \n",
    "        else:\n",
    "            \n",
    "            leap = True \n",
    "            \n",
    "    return leap\n",
    "\n"
   ]
  },
  {
   "cell_type": "markdown",
   "id": "55b84999",
   "metadata": {},
   "source": [
    "#### Print Function"
   ]
  },
  {
   "cell_type": "code",
   "execution_count": null,
   "id": "0ef91f12",
   "metadata": {},
   "outputs": [],
   "source": [
    "if __name__ == '__main__':\n",
    "    \n",
    "    n = int(input())\n",
    "    \n",
    "    s = ''\n",
    "    \n",
    "    for i in range(n):\n",
    "        \n",
    "        s = s + str(i+1)\n",
    "        \n",
    "    print(s)\n"
   ]
  },
  {
   "cell_type": "markdown",
   "id": "adcb04b8",
   "metadata": {},
   "source": [
    "#### List Comprehensions"
   ]
  },
  {
   "cell_type": "code",
   "execution_count": null,
   "id": "0c33b8a6",
   "metadata": {},
   "outputs": [],
   "source": [
    "if __name__ == '__main__':\n",
    "    x = int(input())\n",
    "    y = int(input())\n",
    "    z = int(input())\n",
    "    n = int(input())\n",
    "    \n",
    "    l=[[i,j,k] for i in range(x+1) for j in range(y+1) for k in range(z+1) if (i+k+j)!=n]\n",
    "    \n",
    "    print(l)\n",
    "    \n",
    " \n"
   ]
  },
  {
   "cell_type": "markdown",
   "id": "d5f07b9d",
   "metadata": {},
   "source": [
    "#### Finding the percentage"
   ]
  },
  {
   "cell_type": "code",
   "execution_count": null,
   "id": "d46cec2f",
   "metadata": {},
   "outputs": [],
   "source": [
    "#i checked the hackerrank discussion to do this through i understand the use of '*' to pass a variable number of positional argument/ parameter\n",
    "\n",
    "\n",
    "if __name__ == '__main__':\n",
    "    \n",
    "    n = int(input())\n",
    "    \n",
    "    student_marks = {}\n",
    "    \n",
    "    for _ in range(n):\n",
    "        \n",
    "        name, *line = input().split()\n",
    "        \n",
    "        scores = list(map(float, line))\n",
    "        \n",
    "        student_marks[name] = scores\n",
    "        \n",
    "    query_name = input()\n",
    "    \n",
    "    a = len(student_marks[query_name])\n",
    "    \n",
    "    mean = sum((student_marks[query_name]))/a\n",
    "    \n",
    "    from decimal import Decimal\n",
    "    \n",
    "    Decimal(mean)\n",
    "    \n",
    "    print(round(Decimal(mean),2))\n"
   ]
  },
  {
   "cell_type": "markdown",
   "id": "8794bef9",
   "metadata": {},
   "source": [
    "#### Find the Runner-Up Score!  "
   ]
  },
  {
   "cell_type": "code",
   "execution_count": null,
   "id": "20caa7b2",
   "metadata": {},
   "outputs": [],
   "source": [
    "if __name__ == '__main__':\n",
    "    \n",
    "    n = int(input())\n",
    "    arr = list(map(int, input().split()))\n",
    "    \n",
    "    arr2 = []\n",
    " \n",
    "    for x in arr:\n",
    "        if x not in arr2 and x!=max(arr):\n",
    "            arr2.append(x)\n",
    "\n",
    "    print(max(arr2))\n"
   ]
  },
  {
   "cell_type": "markdown",
   "id": "5f811a71",
   "metadata": {},
   "source": [
    "#### Tuples "
   ]
  },
  {
   "cell_type": "code",
   "execution_count": null,
   "id": "0d773c9e",
   "metadata": {},
   "outputs": [],
   "source": [
    "if __name__ == '__main__':\n",
    "\n",
    "    import builtins as b\n",
    "\n",
    "    n=int(input())\n",
    "\n",
    "    t=tuple((map(int, input().split())))\n",
    "\n",
    "    print(b.hash(t))\n"
   ]
  },
  {
   "cell_type": "markdown",
   "id": "a30161b5",
   "metadata": {},
   "source": [
    "#### Lists"
   ]
  },
  {
   "cell_type": "code",
   "execution_count": null,
   "id": "4c042eb5",
   "metadata": {},
   "outputs": [],
   "source": [
    "if __name__ == '__main__':\n",
    "    N = int(input())\n",
    "\n",
    "    l=[]\n",
    "    \n",
    "    for i in range(N):\n",
    "         \n",
    "        command=str(input())\n",
    "        \n",
    "        if \"insert\" in command:\n",
    "        \n",
    "            num=[int(x) for x in command.split() if x.isdigit()]\n",
    "            \n",
    "            l.insert(num[0],num[1])\n",
    "            \n",
    "        elif \"print\" in command: \n",
    "            \n",
    "            print(l)\n",
    "        \n",
    "        elif \"remove\" in command: \n",
    "            \n",
    "            num=[int(x) for x in command.split() if x.isdigit()]\n",
    "            \n",
    "            l.remove(num[0])\n",
    "        \n",
    "        elif \"append\" in command:\n",
    "            \n",
    "            num=[int(x) for x in command.split() if x.isdigit()]\n",
    "            \n",
    "            l.append(num[0])\n",
    "            \n",
    "        elif \"sort\" in command: \n",
    "            \n",
    "            l.sort()\n",
    "        \n",
    "        elif \"pop\" in command: \n",
    "            \n",
    "            l.pop()\n",
    "            \n",
    "        elif \"reverse\" in command: \n",
    "            \n",
    "            l.reverse()\n",
    "            \n",
    "        \n"
   ]
  },
  {
   "cell_type": "markdown",
   "id": "1602af40",
   "metadata": {},
   "source": [
    "#### String Split and Join"
   ]
  },
  {
   "cell_type": "code",
   "execution_count": null,
   "id": "53b16ffc",
   "metadata": {},
   "outputs": [],
   "source": [
    "def split_and_join(line):\n",
    "    \n",
    "    l=line.split()\n",
    "    \n",
    "    j=\"-\"\n",
    "    \n",
    "    res=j.join(l)\n",
    "    \n",
    "    return(res)\n"
   ]
  },
  {
   "cell_type": "markdown",
   "id": "a91f857f",
   "metadata": {},
   "source": [
    "#### What's Your Name?"
   ]
  },
  {
   "cell_type": "code",
   "execution_count": null,
   "id": "dea7bac5",
   "metadata": {},
   "outputs": [],
   "source": [
    "def print_full_name(first, last):\n",
    "    \n",
    "    print('Hello '+first+' '+last+'! You just delved into python.')\n",
    "    \n"
   ]
  },
  {
   "cell_type": "markdown",
   "id": "abe50804",
   "metadata": {},
   "source": [
    "#### Mutations"
   ]
  },
  {
   "cell_type": "code",
   "execution_count": null,
   "id": "571458da",
   "metadata": {},
   "outputs": [],
   "source": [
    "def mutate_string(string, position, character):\n",
    "    \n",
    "    l=list(string)\n",
    "    \n",
    "    l[position]=character\n",
    "    \n",
    "    m=''.join(l)\n",
    "    \n",
    "    return(m)\n",
    " \n",
    "\n"
   ]
  },
  {
   "cell_type": "markdown",
   "id": "c890aaf1",
   "metadata": {},
   "source": [
    "#### Find a string"
   ]
  },
  {
   "cell_type": "code",
   "execution_count": null,
   "id": "a9ddfbab",
   "metadata": {},
   "outputs": [],
   "source": [
    "def count_substring(string, sub_string):\n",
    "    \n",
    "    count=0\n",
    "    \n",
    "    x=len(sub_string)\n",
    "    \n",
    "    for i in range(len(string)): \n",
    "        \n",
    "        if string[i:i+x]==sub_string: \n",
    "            \n",
    "            count+=1\n",
    "        \n",
    "    return(count)\n",
    "\n"
   ]
  },
  {
   "cell_type": "markdown",
   "id": "f5d430ae",
   "metadata": {},
   "source": [
    "#### Nested Lists"
   ]
  },
  {
   "cell_type": "code",
   "execution_count": null,
   "id": "b2451f16",
   "metadata": {},
   "outputs": [],
   "source": [
    "if __name__ == '__main__':\n",
    "\n",
    "    ss=[]\n",
    "    \n",
    "    low=0\n",
    "    \n",
    "    sco=[]\n",
    "    \n",
    "    n=int(input())\n",
    "    \n",
    "    for _ in range(n):\n",
    "        \n",
    "        name = input()\n",
    "        \n",
    "        score = float(input())\n",
    "        \n",
    "        sco.append(score)\n",
    "        \n",
    "        ss.append([name,score])\n",
    "       \n",
    "    s=list(set(sco))\n",
    "    \n",
    "    s=sorted(s)\n",
    "    \n",
    "    low=s[1]\n",
    "      \n",
    "    sec_s=[x[0] for x in ss if x[1] == low]\n",
    "    \n",
    "    sec_ss=sorted(sec_s)\n",
    "    \n",
    "    for name in sec_ss:\n",
    "        print(name)\n",
    "    \n"
   ]
  },
  {
   "cell_type": "markdown",
   "id": "2c8f33f4",
   "metadata": {},
   "source": [
    "#### String Validators"
   ]
  },
  {
   "cell_type": "code",
   "execution_count": null,
   "id": "619137da",
   "metadata": {},
   "outputs": [],
   "source": [
    "if __name__ == '__main__':\n",
    "    s = input()\n",
    "    \n",
    "    print(any(map(str.isalnum,s)))\n",
    "    \n",
    "    print(any(map(str.isalpha,s)))\n",
    "    \n",
    "    print(any(map(str.isdigit,s)))\n",
    "    \n",
    "    print(any(map(str.islower,s)))\n",
    "    \n",
    "    print(any(map(str.isupper,s)))\n"
   ]
  },
  {
   "cell_type": "markdown",
   "id": "09279edd",
   "metadata": {},
   "source": [
    "#### Text Alignment"
   ]
  },
  {
   "cell_type": "code",
   "execution_count": null,
   "id": "6ecd3ee3",
   "metadata": {},
   "outputs": [],
   "source": [
    "#Replace all ______ with rjust, ljust or center. \n",
    "\n",
    "thickness = int(input()) #This must be an odd number\n",
    "c = 'H'\n",
    "\n",
    "#Top Cone\n",
    "for i in range(thickness):\n",
    "    print((c*i).rjust(thickness-1)+c+(c*i).ljust(thickness-1))\n",
    "\n",
    "#Top Pillars\n",
    "for i in range(thickness+1):\n",
    "    print((c*thickness).center(thickness*2)+(c*thickness).center(thickness*6))\n",
    "\n",
    "#Middle Belt\n",
    "for i in range((thickness+1)//2):\n",
    "    print((c*thickness*5).center(thickness*6))    \n",
    "\n",
    "#Bottom Pillars\n",
    "for i in range(thickness+1):\n",
    "    print((c*thickness).center(thickness*2)+(c*thickness).center(thickness*6))    \n",
    "\n",
    "#Bottom Cone\n",
    "for i in range(thickness):\n",
    "    print(((c*(thickness-i-1)).rjust(thickness)+c+(c*(thickness-i-1)).ljust(thickness)).rjust(thickness*6))\n"
   ]
  },
  {
   "cell_type": "markdown",
   "id": "ed0c9ccf",
   "metadata": {},
   "source": [
    "#### Text Wrap"
   ]
  },
  {
   "cell_type": "code",
   "execution_count": null,
   "id": "52812294",
   "metadata": {},
   "outputs": [],
   "source": [
    "\n",
    "\n",
    "def wrap(string, max_width):\n",
    "    \n",
    "    return(textwrap.fill(string,max_width))\n",
    "    \n",
    "    \n",
    "\n"
   ]
  },
  {
   "cell_type": "markdown",
   "id": "b8fbf26f",
   "metadata": {},
   "source": [
    "#### Capitalize!"
   ]
  },
  {
   "cell_type": "code",
   "execution_count": null,
   "id": "ba2ad886",
   "metadata": {},
   "outputs": [],
   "source": [
    "def solve(s):\n",
    "    \n",
    "    l=s.split(\" \")\n",
    "    \n",
    "    for i in range(len(l)): \n",
    "        \n",
    "        l[i]=l[i].capitalize()\n",
    "        \n",
    "    m=\" \".join(l)\n",
    "    \n",
    "    return(m)\n",
    "    \n",
    "\n"
   ]
  },
  {
   "cell_type": "markdown",
   "id": "dc7e5cff",
   "metadata": {},
   "source": [
    "#### Introduction to Sets"
   ]
  },
  {
   "cell_type": "code",
   "execution_count": null,
   "id": "c1444782",
   "metadata": {},
   "outputs": [],
   "source": [
    "def average(array):\n",
    "    \n",
    "    b=sum(set(array))\n",
    "    \n",
    "    s=[x for x in set(array)]\n",
    "    \n",
    "    l=len(s)\n",
    "    \n",
    "    r=round(float(b/l),3)\n",
    "    \n",
    "    return(r)\n",
    "\n"
   ]
  },
  {
   "cell_type": "markdown",
   "id": "edddb49d",
   "metadata": {},
   "source": [
    "#### Symmetric Difference"
   ]
  },
  {
   "cell_type": "code",
   "execution_count": null,
   "id": "0306eebb",
   "metadata": {},
   "outputs": [],
   "source": [
    "M=int(input())\n",
    "\n",
    "s1=set(map(int, input().split()))\n",
    "\n",
    "N=int(input())\n",
    "\n",
    "s2=set(list(map(int, input().split())))\n",
    "\n",
    "u=sorted(list((s1.union(s2)).difference(s1.intersection(s2))))\n",
    "\n",
    "for i in range(len(u)): \n",
    "    \n",
    "    print(u[i])\n",
    "\n",
    "\n"
   ]
  },
  {
   "cell_type": "markdown",
   "id": "5655e1ab",
   "metadata": {},
   "source": [
    "#### Symmetric Difference"
   ]
  },
  {
   "cell_type": "code",
   "execution_count": null,
   "id": "5175ada1",
   "metadata": {},
   "outputs": [],
   "source": [
    "M=int(input())\n",
    "\n",
    "s1=set(map(int, input().split()))\n",
    "\n",
    "N=int(input())\n",
    "\n",
    "s2=set(list(map(int, input().split())))\n",
    "\n",
    "u=sorted(list((s1.union(s2)).difference(s1.intersection(s2))))\n",
    "\n",
    "for i in range(len(u)): \n",
    "    \n",
    "    print(u[i])\n",
    "\n",
    "\n"
   ]
  },
  {
   "cell_type": "markdown",
   "id": "3eb5b1bb",
   "metadata": {},
   "source": [
    "#### Set .add() "
   ]
  },
  {
   "cell_type": "code",
   "execution_count": null,
   "id": "fad39d2c",
   "metadata": {},
   "outputs": [],
   "source": [
    "N=int(input())\n",
    "\n",
    "s=set()\n",
    "\n",
    "for i in range(N): \n",
    "    \n",
    "    s.add(input())\n",
    " \n",
    "print(len(s))\n",
    "    \n"
   ]
  },
  {
   "cell_type": "markdown",
   "id": "0688d634",
   "metadata": {},
   "source": [
    "#### Set .difference() Operation"
   ]
  },
  {
   "cell_type": "code",
   "execution_count": null,
   "id": "09d10745",
   "metadata": {},
   "outputs": [],
   "source": [
    "n=int(input())\n",
    "\n",
    "e=list(map(int, input().split(\" \")))\n",
    "\n",
    "m=int(input())\n",
    "\n",
    "f=list(map(int, input().split(\" \")))\n",
    "\n",
    "print(len(set(e).difference((set(e).intersection(set(f))))))\n",
    "\n"
   ]
  },
  {
   "cell_type": "markdown",
   "id": "a740d4ac",
   "metadata": {},
   "source": [
    "#### Set .discard(), .remove() & .pop()"
   ]
  },
  {
   "cell_type": "code",
   "execution_count": null,
   "id": "0a9fb052",
   "metadata": {},
   "outputs": [],
   "source": [
    "n = int(input())\n",
    "\n",
    "s = set(list(map(int, input().split(\" \"))))\n",
    "\n",
    "N=int(input())\n",
    "\n",
    "\n",
    "\n",
    "for i in range(N):\n",
    "    \n",
    "    command=input()\n",
    "    \n",
    "    if command=='pop': \n",
    "        \n",
    "        s.pop()\n",
    "        \n",
    "    elif \"remove\" in command: \n",
    "            \n",
    "        num=[int(x) for x in command.split() if x.isdigit()]\n",
    "            \n",
    "        s.remove(num[0])\n",
    " \n",
    "    elif \"discard\" in command: \n",
    "            \n",
    "        num=[int(x) for x in command.split() if x.isdigit()]\n",
    "            \n",
    "        s.discard(num[0])\n",
    "        \n",
    "print(sum(s))\n"
   ]
  },
  {
   "cell_type": "markdown",
   "id": "7c0b3137",
   "metadata": {},
   "source": [
    "#### Set .union() Operation"
   ]
  },
  {
   "cell_type": "code",
   "execution_count": null,
   "id": "bfe0e270",
   "metadata": {},
   "outputs": [],
   "source": [
    "n=int(input())\n",
    "\n",
    "e=set(list(map(int, input().split(\" \"))))\n",
    "\n",
    "b=int(input())\n",
    "\n",
    "f=set(list(map(int, input().split(\" \"))))\n",
    "\n",
    "print(len(e.union(f)))\n"
   ]
  },
  {
   "cell_type": "markdown",
   "id": "35d55fc3",
   "metadata": {},
   "source": [
    "#### Set .intersection() Operation"
   ]
  },
  {
   "cell_type": "code",
   "execution_count": null,
   "id": "57cd53ad",
   "metadata": {},
   "outputs": [],
   "source": [
    "n=int(input())\n",
    "\n",
    "e=set(list(map(int, input().split(\" \"))))\n",
    "\n",
    "b=int(input())\n",
    "\n",
    "f=set(list(map(int, input().split(\" \"))))\n",
    "\n",
    "print(len(e.intersection(f)))\n"
   ]
  },
  {
   "cell_type": "markdown",
   "id": "bc9fa7a4",
   "metadata": {},
   "source": [
    "#### Set .symmetric_difference() Operation"
   ]
  },
  {
   "cell_type": "code",
   "execution_count": null,
   "id": "52b0733d",
   "metadata": {},
   "outputs": [],
   "source": [
    "n=int(input())\n",
    "\n",
    "e=set(list(map(int, input().split(\" \"))))\n",
    "\n",
    "b=int(input())\n",
    "\n",
    "f=set(list(map(int, input().split(\" \"))))\n",
    "\n",
    "print(len(e.symmetric_difference(f)))\n"
   ]
  },
  {
   "cell_type": "markdown",
   "id": "50d4757e",
   "metadata": {},
   "source": [
    "#### Set Mutations"
   ]
  },
  {
   "cell_type": "code",
   "execution_count": null,
   "id": "de8fcfbd",
   "metadata": {},
   "outputs": [],
   "source": [
    "len_a=int(input())\n",
    "\n",
    "a=set(map(int, input().split(\" \")))\n",
    "\n",
    "N=int(input())\n",
    "\n",
    "for i in range(N): \n",
    "    \n",
    "    command=input().split()\n",
    "    \n",
    "    if command[0]=='intersection_update': \n",
    "        \n",
    "        c=set((map(int, input().split(\" \"))))\n",
    "        \n",
    "        a.intersection_update(c)\n",
    "            \n",
    "    elif command[0]=='update': \n",
    "        \n",
    "        c=set((map(int, input().split(\" \"))))\n",
    "        \n",
    "        a.update(c)\n",
    "        \n",
    "    elif command[0]=='difference_update': \n",
    "        \n",
    "        c=set((map(int, input().split(\" \"))))\n",
    "        \n",
    "        a.difference_update(c)\n",
    "        \n",
    "    elif command[0]=='symmetric_difference_update':\n",
    "            \n",
    "        c=set((map(int, input().split(\" \"))))\n",
    "        \n",
    "        a.symmetric_difference_update(c)   \n",
    "            \n",
    "print(sum(a))   \n"
   ]
  },
  {
   "cell_type": "markdown",
   "id": "ea5ecede",
   "metadata": {},
   "source": [
    "#### No Idea!"
   ]
  },
  {
   "cell_type": "code",
   "execution_count": null,
   "id": "130e66dd",
   "metadata": {},
   "outputs": [],
   "source": [
    "n, m=map(int, input().split(' '))\n",
    "\n",
    "arr=list(map(int, input().split()))\n",
    "\n",
    "a=set(map(int, input().split()))\n",
    "\n",
    "b=set(map(int, input().split()))\n",
    "\n",
    "count=0\n",
    "\n",
    "for x in arr: \n",
    "    if x in a:\n",
    "        count+=1\n",
    "    elif x in b: \n",
    "        count-=1\n",
    "\n",
    "print(count)\n",
    "    \n"
   ]
  },
  {
   "cell_type": "markdown",
   "id": "fcebaf0f",
   "metadata": {},
   "source": [
    "#### Check Subset"
   ]
  },
  {
   "cell_type": "code",
   "execution_count": null,
   "id": "3472b00b",
   "metadata": {},
   "outputs": [],
   "source": [
    "t=int(input())\n",
    "\n",
    "for i in range(t):\n",
    "    \n",
    "    n=int(input())\n",
    "    \n",
    "    a=set(map(int, input().split(\" \")))\n",
    "    \n",
    "    m=int(input())\n",
    "    \n",
    "    b=set(map(int, input().split(\" \")))\n",
    "    \n",
    "    if len(a.intersection(b))==len(a):\n",
    "        \n",
    "        print(True)\n",
    "        \n",
    "    else:\n",
    "        \n",
    "        print(False)\n",
    "    \n"
   ]
  },
  {
   "cell_type": "markdown",
   "id": "d54f9331",
   "metadata": {},
   "source": [
    "#### Check Strict Superset"
   ]
  },
  {
   "cell_type": "code",
   "execution_count": null,
   "id": "7cccce3f",
   "metadata": {},
   "outputs": [],
   "source": [
    "a=set(map(int, input().split(\" \")))\n",
    "\n",
    "n=int(input())\n",
    "\n",
    "count=0\n",
    "\n",
    "for i in range(n):\n",
    "    \n",
    "    b=set(map(int, input().split(\" \")))\n",
    "    \n",
    "    if a.difference(a.difference(b))==b: \n",
    "        \n",
    "        count+=1\n",
    "        \n",
    "if count==n: \n",
    "    \n",
    "    print(True)\n",
    "\n",
    "else:\n",
    "    print(False)\n",
    "    \n"
   ]
  },
  {
   "cell_type": "markdown",
   "id": "19b45be0",
   "metadata": {},
   "source": [
    "#### collections.Counter()"
   ]
  },
  {
   "cell_type": "code",
   "execution_count": null,
   "id": "066c9d8e",
   "metadata": {},
   "outputs": [],
   "source": [
    "import collections as c\n",
    "\n",
    "x=int(input())\n",
    "\n",
    "shoes = c.Counter(list((map(int, input().split(\" \")))))\n",
    "\n",
    "n=int(input())\n",
    "\n",
    "e=0 \n",
    "\n",
    "for i in range(n):\n",
    "    \n",
    "    size, price =list(map(int, input().split(\" \")))\n",
    "    \n",
    "    if shoes[size]>0:\n",
    "        \n",
    "        e+=price\n",
    "        \n",
    "        shoes[size]=shoes[size]-1 \n",
    "         \n",
    "print(e)\n",
    "    \n"
   ]
  },
  {
   "cell_type": "markdown",
   "id": "85e1ba65",
   "metadata": {},
   "source": [
    "#### Collections.deque()"
   ]
  },
  {
   "cell_type": "code",
   "execution_count": null,
   "id": "0c8eb9ce",
   "metadata": {},
   "outputs": [],
   "source": [
    "#talking with a classmate i understood the use of gettattr instead of doing like in the previous exercises\n",
    "\n",
    "from collections import deque\n",
    "\n",
    "n = int(input())\n",
    "\n",
    "d=deque()\n",
    "\n",
    "for i in range(n):\n",
    "    \n",
    "    inp = input().split()\n",
    "    \n",
    "    if len(inp)==1:\n",
    "        \n",
    "        command=inp[0]\n",
    "        \n",
    "        getattr(d, command)()\n",
    "    \n",
    "    else: \n",
    "        \n",
    "        command=inp[0]\n",
    "        \n",
    "        getattr(d, command)(inp[1])\n",
    "        \n",
    "\n",
    "print(\" \".join(d))\n"
   ]
  },
  {
   "cell_type": "markdown",
   "id": "5353d7e4",
   "metadata": {},
   "source": [
    "#### Collections.namedtuple()"
   ]
  },
  {
   "cell_type": "code",
   "execution_count": null,
   "id": "b13292d1",
   "metadata": {},
   "outputs": [],
   "source": [
    "#i checked hackerrank discussione to understand how to do this exercise\n",
    "\n",
    "from collections import namedtuple\n",
    "\n",
    "n=int(input())\n",
    "\n",
    "col=','.join(input().split())\n",
    "\n",
    "Stud=namedtuple('Student', col)\n",
    "\n",
    "sum=0\n",
    "\n",
    "for i in range(n): \n",
    "    \n",
    "    r=input().split()\n",
    "    \n",
    "    stud=Stud(*r)\n",
    "    \n",
    "    sum+=int(stud.MARKS)\n",
    "    \n",
    "print(sum/n)\n",
    "    \n",
    "    \n"
   ]
  },
  {
   "cell_type": "markdown",
   "id": "a8810668",
   "metadata": {},
   "source": [
    "#### Calendar Module"
   ]
  },
  {
   "cell_type": "code",
   "execution_count": null,
   "id": "e222def1",
   "metadata": {},
   "outputs": [],
   "source": [
    "import calendar\n",
    "\n",
    "month, day, year= list(map(int, input().split(\" \")))\n",
    "\n",
    "n=calendar.weekday(year, month, day)\n",
    "\n",
    "list=['MONDAY', 'TUESDAY', 'WEDNESDAY', 'THURSDAY', 'FRIDAY', 'SATURDAY', 'SUNDAY']\n",
    "\n",
    "print(list[n])\n"
   ]
  },
  {
   "cell_type": "markdown",
   "id": "29390811",
   "metadata": {},
   "source": [
    "#### Exceptions"
   ]
  },
  {
   "cell_type": "code",
   "execution_count": null,
   "id": "5136fcac",
   "metadata": {},
   "outputs": [],
   "source": [
    "#i was helped understanding to use command 'except exception as e'\n",
    "\n",
    "t=int(input())\n",
    "\n",
    "l=[]\n",
    "\n",
    "for i in range(t): \n",
    "    \n",
    "    l.append(input().split())\n",
    "    \n",
    "for i in range(len(l)):\n",
    "    \n",
    "    try:\n",
    "        \n",
    "        print(int(l[i][0])//int(l[i][1]))\n",
    "       \n",
    "    except Exception as e:\n",
    "        \n",
    "        print('Error Code:', e) \n"
   ]
  },
  {
   "cell_type": "markdown",
   "id": "449bdc4e",
   "metadata": {},
   "source": [
    "#### Zipped!"
   ]
  },
  {
   "cell_type": "code",
   "execution_count": null,
   "id": "5c021ee3",
   "metadata": {},
   "outputs": [],
   "source": [
    "n, x = map(int, input().split(\" \"))\n",
    "\n",
    "sub = []\n",
    "\n",
    "for i in range(x):\n",
    "    \n",
    "    s = map(float, input().split())\n",
    "    \n",
    "    sub.append(s)\n",
    "    \n",
    "\n",
    "for marks in zip(*sub): \n",
    "    \n",
    "    average = (sum(marks)/len(marks))\n",
    "    \n",
    "    print(average)\n",
    "    \n",
    "\n",
    "    \n",
    "    \n"
   ]
  },
  {
   "cell_type": "markdown",
   "id": "59cef2f1",
   "metadata": {},
   "source": [
    "#### Athlete Sort"
   ]
  },
  {
   "cell_type": "code",
   "execution_count": null,
   "id": "efc6b46b",
   "metadata": {},
   "outputs": [],
   "source": [
    "#I checked internet and i understand how use 'key = lambda' and .rstrip()\n",
    "\n",
    "import math\n",
    "import os\n",
    "import random\n",
    "import re\n",
    "import sys\n",
    "\n",
    "\n",
    "\n",
    "if __name__ == '__main__':\n",
    "    \n",
    "    nm = input().split()\n",
    "\n",
    "    n = int(nm[0])\n",
    "\n",
    "    m = int(nm[1])\n",
    "\n",
    "    arr = []\n",
    "\n",
    "    for _ in range(n):\n",
    "        \n",
    "        arr.append(list(map(int, input().rstrip().split())))\n",
    "\n",
    "    k = int(input())\n",
    "\n",
    "    arr=sorted(arr, key = lambda x: x[k])\n",
    "    \n",
    "    for a in arr: \n",
    "        \n",
    "        print(\" \".join(str(i) for i in a))\n"
   ]
  },
  {
   "cell_type": "markdown",
   "id": "6ea42c69",
   "metadata": {},
   "source": [
    "#### ginortS"
   ]
  },
  {
   "cell_type": "code",
   "execution_count": null,
   "id": "e0357992",
   "metadata": {},
   "outputs": [],
   "source": [
    "carachters = list(input())\n",
    "\n",
    "lower = []\n",
    "upper = []\n",
    "odd = []\n",
    "even = []\n",
    "\n",
    "for c in carachters: \n",
    "    \n",
    "    if c.islower() == True: \n",
    "        \n",
    "        lower.append(c)\n",
    "        \n",
    "    elif c.isupper() == True: \n",
    "        \n",
    "        upper.append(c)\n",
    "        \n",
    "    elif c.isdigit() == True: \n",
    "        \n",
    "        if int(c)%2 == 0: \n",
    "            \n",
    "            even.append(c)\n",
    "            \n",
    "        else: \n",
    "            \n",
    "            odd.append(c)\n",
    "\n",
    "print(\"\".join(sorted(lower)) + \"\".join(sorted(upper)) + \"\".join(sorted(odd)) + \"\".join(sorted(even)))\n",
    "    \n"
   ]
  },
  {
   "cell_type": "markdown",
   "id": "fec5af25",
   "metadata": {},
   "source": [
    "#### Map and Lambda Function"
   ]
  },
  {
   "cell_type": "code",
   "execution_count": null,
   "id": "ad942dff",
   "metadata": {},
   "outputs": [],
   "source": [
    "cube = lambda x: x**3\n",
    "\n",
    "def fibonacci(n):\n",
    "    \n",
    "    fib = [0, 1]\n",
    "    \n",
    "    n_0,n_1 = 0, 1\n",
    "    \n",
    "    if n == 1: \n",
    "        \n",
    "        fib = [0]\n",
    "        \n",
    "    elif n == 0: \n",
    "        \n",
    "        fib = []\n",
    "        \n",
    "    elif n > 1: \n",
    "        \n",
    "        for i in range(n-2): \n",
    "            \n",
    "            n_i=n_0+n_1\n",
    "            \n",
    "            fib.append(n_i)\n",
    "            \n",
    "            n_0=n_1 \n",
    "            \n",
    "            n_1=n_i\n",
    "    \n",
    "    return(fib)\n",
    "    \n",
    "\n"
   ]
  },
  {
   "cell_type": "markdown",
   "id": "15aa0b25",
   "metadata": {},
   "source": [
    "#### XML 1 - Find the Score"
   ]
  },
  {
   "cell_type": "code",
   "execution_count": null,
   "id": "673f8843",
   "metadata": {},
   "outputs": [],
   "source": [
    "def get_attr_number(node):\n",
    "    \n",
    "    count=0\n",
    "    \n",
    "    for i in node:\n",
    "        \n",
    "        count = count + get_attr_number(i)\n",
    "        \n",
    "    count = count + len(node.attrib)\n",
    "        \n",
    "    return(count)\n",
    "\n"
   ]
  },
  {
   "cell_type": "markdown",
   "id": "e8bf4ea3",
   "metadata": {},
   "source": [
    "#### Standardize Mobile Number Using Decorators"
   ]
  },
  {
   "cell_type": "code",
   "execution_count": null,
   "id": "a8c49b9e",
   "metadata": {},
   "outputs": [],
   "source": [
    "#i made so many researches on internet to understand how to use decorators\n",
    "\n",
    "def wrapper(f):\n",
    "    \n",
    "    def fun(l):\n",
    "    \n",
    "        f(['+91' + ' '+ num[-10:-5] + ' ' + num[-5:] for num in l])\n",
    "            \n",
    "    return fun\n",
    "\n"
   ]
  },
  {
   "cell_type": "markdown",
   "id": "ea650857",
   "metadata": {},
   "source": [
    "#### Decorators 2 - Name Directory"
   ]
  },
  {
   "cell_type": "code",
   "execution_count": null,
   "id": "49398710",
   "metadata": {},
   "outputs": [],
   "source": [
    "\n",
    "def person_lister(f):\n",
    "    \n",
    "    def inner(people):\n",
    "        \n",
    "        return(map(f, sorted(people, key=lambda x: int(x[2]))))\n",
    "    \n",
    "    return(inner)\n"
   ]
  },
  {
   "cell_type": "markdown",
   "id": "346e1885",
   "metadata": {},
   "source": [
    "#### Arrays"
   ]
  },
  {
   "cell_type": "code",
   "execution_count": null,
   "id": "7d9e3801",
   "metadata": {},
   "outputs": [],
   "source": [
    "def arrays(arr):\n",
    "    \n",
    "    a = numpy.array(arr, dtype = float)\n",
    "    \n",
    "    return(numpy.flip(a))\n",
    "\n"
   ]
  },
  {
   "cell_type": "markdown",
   "id": "4e05c612",
   "metadata": {},
   "source": [
    "#### Transpose and Flatten"
   ]
  },
  {
   "cell_type": "code",
   "execution_count": null,
   "id": "11ab826a",
   "metadata": {},
   "outputs": [],
   "source": [
    "import numpy as np\n",
    "\n",
    "n,m = map(int, input().split(\" \"))\n",
    "\n",
    "arr = []\n",
    "\n",
    "for i in range(n): \n",
    "    \n",
    "    r=list(map(int, input().split(\" \")))\n",
    "    \n",
    "    arr.append(r)\n",
    "\n",
    "array = np.array(arr)\n",
    "\n",
    "print(np.transpose(array))\n",
    "\n",
    "print(array.flatten())\n"
   ]
  },
  {
   "cell_type": "markdown",
   "id": "53d9106a",
   "metadata": {},
   "source": [
    "#### Concatenate"
   ]
  },
  {
   "cell_type": "code",
   "execution_count": null,
   "id": "a211db63",
   "metadata": {},
   "outputs": [],
   "source": [
    "import numpy as np\n",
    "\n",
    "n, m, p = map(int, input().split())\n",
    "\n",
    "mat_1=[list(map(int, input().split())) for i in range(n)]\n",
    "\n",
    "mat_2=[list(map(int, input().split())) for i in range(m)]\n",
    "\n",
    "print(np.concatenate((mat_1, mat_2), axis = 0))\n"
   ]
  },
  {
   "cell_type": "markdown",
   "id": "fdb56ca0",
   "metadata": {},
   "source": [
    "#### Zeros and Ones"
   ]
  },
  {
   "cell_type": "code",
   "execution_count": null,
   "id": "ece8cb6a",
   "metadata": {},
   "outputs": [],
   "source": [
    "import numpy as np\n",
    "\n",
    "\n",
    "\n",
    "inp = list(map(int, input().split(\" \")))\n",
    "\n",
    "print(np.zeros(inp, dtype = np.int))\n",
    "\n",
    "print(np.ones(inp, dtype = np.int))\n"
   ]
  },
  {
   "cell_type": "markdown",
   "id": "6c9e20a4",
   "metadata": {},
   "source": [
    "#### Eye and Identity"
   ]
  },
  {
   "cell_type": "code",
   "execution_count": null,
   "id": "3688ef69",
   "metadata": {},
   "outputs": [],
   "source": [
    "import numpy\n",
    "\n",
    "numpy.set_printoptions(legacy='1.13')\n",
    "\n",
    "n, m = map(int, input().split())\n",
    "\n",
    "print(numpy.eye(n, m, k = 0))\n",
    "\n"
   ]
  },
  {
   "cell_type": "markdown",
   "id": "13a32e5d",
   "metadata": {},
   "source": [
    "#### Array Mathematics"
   ]
  },
  {
   "cell_type": "code",
   "execution_count": null,
   "id": "84bd276a",
   "metadata": {},
   "outputs": [],
   "source": [
    "import numpy as np\n",
    "\n",
    "n, m = map(int, input().split())\n",
    "\n",
    "a = np.array([list(map(int, input().split())) for i in range(n)])\n",
    "\n",
    "b = np.array([list(map(int, input().split())) for i in range(n)])\n",
    "\n",
    "print(a+b)\n",
    "\n",
    "print(a-b)\n",
    "\n",
    "print(a*b)\n",
    "\n",
    "print(np.floor_divide(a, b))\n",
    "\n",
    "print(a%b)\n",
    "\n",
    "print(a**b)\n",
    "\n",
    "\n",
    "\n",
    "\n",
    "\n",
    "\n",
    "\n"
   ]
  },
  {
   "cell_type": "markdown",
   "id": "7eea4a6c",
   "metadata": {},
   "source": [
    "#### Floor, Ceil and Rint"
   ]
  },
  {
   "cell_type": "code",
   "execution_count": null,
   "id": "60a3bcc7",
   "metadata": {},
   "outputs": [],
   "source": [
    "import numpy as np\n",
    "\n",
    "np.set_printoptions(legacy='1.13')\n",
    "\n",
    "a = np.array(list(map(float, input().split())))\n",
    "\n",
    "print(np.floor(a))\n",
    "\n",
    "print(np.ceil(a))\n",
    "\n",
    "print(np.rint(a))\n",
    "\n",
    "\n",
    "\n",
    "\n"
   ]
  },
  {
   "cell_type": "markdown",
   "id": "0705433f",
   "metadata": {},
   "source": [
    "#### Sum and Prod"
   ]
  },
  {
   "cell_type": "code",
   "execution_count": null,
   "id": "bebb4c8c",
   "metadata": {},
   "outputs": [],
   "source": [
    "import numpy as np\n",
    "\n",
    "n, m = map(int, input().split())\n",
    "\n",
    "mat = np.array([list(map(int, input().split())) for i in range(n)])\n",
    "\n",
    "print(np.prod(np.sum(mat, axis = 0)))\n",
    "\n",
    "\n",
    "\n"
   ]
  },
  {
   "cell_type": "markdown",
   "id": "05632327",
   "metadata": {},
   "source": [
    "#### Sum and Prod"
   ]
  },
  {
   "cell_type": "code",
   "execution_count": null,
   "id": "ae8e027f",
   "metadata": {},
   "outputs": [],
   "source": [
    "import numpy as np\n",
    "\n",
    "n, m = map(int, input().split())\n",
    "\n",
    "mat = np.array([list(map(int, input().split())) for i in range(n)])\n",
    "\n",
    "print(np.prod(np.sum(mat, axis = 0)))\n",
    "\n",
    "\n",
    "\n"
   ]
  },
  {
   "cell_type": "markdown",
   "id": "92e5ed84",
   "metadata": {},
   "source": [
    "#### Min and Max"
   ]
  },
  {
   "cell_type": "code",
   "execution_count": null,
   "id": "edc5fbf6",
   "metadata": {},
   "outputs": [],
   "source": [
    "import numpy as np\n",
    "\n",
    "n, m = map(int, input().split())\n",
    "\n",
    "mat = np.array([list(map(int, input().split())) for i in range(n)])\n",
    "\n",
    "print(np.max(np.min(mat, axis = 1)))\n",
    "\n"
   ]
  },
  {
   "cell_type": "markdown",
   "id": "f801d22e",
   "metadata": {},
   "source": [
    "#### Mean, Var, and Std"
   ]
  },
  {
   "cell_type": "code",
   "execution_count": null,
   "id": "e76703dc",
   "metadata": {},
   "outputs": [],
   "source": [
    "import numpy as np\n",
    "\n",
    "n, m = map(int, input().split())\n",
    "\n",
    "mat = np.array([list(map(int, input().split())) for i in range(n)])\n",
    "\n",
    "print(np.mean(mat, axis = 1))\n",
    "\n",
    "print(np.var(mat, axis = 0))\n",
    "\n",
    "print(round((np.std(mat, axis = None)), 11))\n",
    "\n",
    "\n",
    "\n"
   ]
  },
  {
   "cell_type": "markdown",
   "id": "4518cdc1",
   "metadata": {},
   "source": [
    "#### Dot and Cross"
   ]
  },
  {
   "cell_type": "code",
   "execution_count": null,
   "id": "a7b3d568",
   "metadata": {},
   "outputs": [],
   "source": [
    "import numpy as np\n",
    "\n",
    "n = int(input())\n",
    "\n",
    "a = np.array([list(map(int, input().split())) for i in range(n)])\n",
    "\n",
    "b = np.array([list(map(int, input().split())) for i in range(n)])\n",
    "\n",
    "print(np.dot(a, b))\n",
    "\n"
   ]
  },
  {
   "cell_type": "markdown",
   "id": "5ca4f1b8",
   "metadata": {},
   "source": [
    "#### Inner and Outer"
   ]
  },
  {
   "cell_type": "code",
   "execution_count": null,
   "id": "e5b5aa6c",
   "metadata": {},
   "outputs": [],
   "source": [
    "import numpy as np\n",
    "\n",
    "a = np.array(list(map(int, input().split())))\n",
    "\n",
    "b = np.array(list(map(int, input().split())))\n",
    "\n",
    "print(np.inner(a, b))\n",
    "\n",
    "print(np.outer(a, b))\n",
    "\n"
   ]
  },
  {
   "cell_type": "markdown",
   "id": "dca8f7e0",
   "metadata": {},
   "source": [
    "#### Polynomials"
   ]
  },
  {
   "cell_type": "code",
   "execution_count": null,
   "id": "3f6f93c1",
   "metadata": {},
   "outputs": [],
   "source": [
    "import numpy as np\n",
    "\n",
    "coeff = list(map(float, input().split()))\n",
    "\n",
    "x_0 = int(input())\n",
    "\n",
    "print(np.polyval(coeff, x_0))\n",
    "\n",
    "\n",
    "\n"
   ]
  },
  {
   "cell_type": "markdown",
   "id": "2fb9dcf6",
   "metadata": {},
   "source": [
    "#### Linear Algebra"
   ]
  },
  {
   "cell_type": "code",
   "execution_count": null,
   "id": "9c68ad8b",
   "metadata": {},
   "outputs": [],
   "source": [
    "import numpy as np\n",
    "\n",
    "n = int(input())\n",
    "\n",
    "a = np.array([list(map(float, input().split())) for i in range(n)])\n",
    "\n",
    "print(round(np.linalg.det(a), 2))\n",
    "\n",
    "\n"
   ]
  },
  {
   "cell_type": "markdown",
   "id": "864e1739",
   "metadata": {},
   "source": [
    "#### Shape and Reshape"
   ]
  },
  {
   "cell_type": "code",
   "execution_count": null,
   "id": "93ec1916",
   "metadata": {},
   "outputs": [],
   "source": [
    "import numpy as np\n",
    "\n",
    "inp = np.array(list(map(int, input().split())))\n",
    "\n",
    "print(np.reshape(inp, (3,3)))\n",
    "\n",
    "\n",
    "\n",
    "\n"
   ]
  },
  {
   "cell_type": "markdown",
   "id": "9a8e6366",
   "metadata": {},
   "source": [
    "#### Birthday Cake Candles"
   ]
  },
  {
   "cell_type": "code",
   "execution_count": null,
   "id": "e681105b",
   "metadata": {},
   "outputs": [],
   "source": [
    "import math\n",
    "import os\n",
    "import random\n",
    "import re\n",
    "import sys\n",
    "\n",
    "def birthdayCakeCandles(candles):\n",
    "    \n",
    "    count = 0\n",
    "    \n",
    "    max_candles = max(candles)\n",
    "    \n",
    "    for c in candles: \n",
    "        \n",
    "        if c == max_candles:\n",
    "            \n",
    "            count +=1\n",
    "            \n",
    "    return(count)\n",
    "    \n",
    "\n",
    "if __name__ == '__main__':\n",
    "    fptr = open(os.environ['OUTPUT_PATH'], 'w')\n",
    "\n",
    "    candles_count = int(input().strip())\n",
    "\n",
    "    candles = list(map(int, input().rstrip().split()))\n",
    "\n",
    "    result = birthdayCakeCandles(candles)\n",
    "\n",
    "    fptr.write(str(result) + '\\n')\n",
    "\n",
    "    fptr.close()\n"
   ]
  },
  {
   "cell_type": "markdown",
   "id": "61fc72fe",
   "metadata": {},
   "source": [
    "#### Number Line Jumps"
   ]
  },
  {
   "cell_type": "code",
   "execution_count": null,
   "id": "cd64e48c",
   "metadata": {},
   "outputs": [],
   "source": [
    "#!/bin/python3\n",
    "\n",
    "import math\n",
    "import os\n",
    "import random\n",
    "import re\n",
    "import sys\n",
    "\n",
    "def kangaroo(x1, v1, x2, v2):\n",
    "    \n",
    "    if x1 == x2:\n",
    "        \n",
    "        if v1 != v2: \n",
    "            \n",
    "            return(\"NO\")\n",
    "        \n",
    "        else:\n",
    "             \n",
    "            return(\"YES\")\n",
    "        \n",
    "    elif x2 > x1 and v2 > v1:\n",
    "        \n",
    "        return(\"NO\")\n",
    "    \n",
    "    elif x1 > x2 and v2 > v1: \n",
    "        \n",
    "        return(\"NO\")\n",
    "    \n",
    "    elif (v1-v2) == 0: \n",
    "        \n",
    "            return(\"NO\")   \n",
    "         \n",
    "    else: \n",
    "        \n",
    "        if (x1-x2)%(v1-v2) == 0: \n",
    "            \n",
    "            return(\"YES\")\n",
    "        \n",
    "        elif (v1-v2) == 0: \n",
    "            \n",
    "            return(\"NO\")\n",
    "        else: \n",
    "            \n",
    "            return(\"NO\")\n",
    "        \n",
    "            \n",
    "        \n",
    "        \n",
    "            \n",
    "    \n",
    "\n",
    "if __name__ == '__main__':\n",
    "    \n",
    "    fptr = open(os.environ['OUTPUT_PATH'], 'w')\n",
    "\n",
    "    first_multiple_input = input().rstrip().split()\n",
    "\n",
    "    x1 = int(first_multiple_input[0])\n",
    "\n",
    "    v1 = int(first_multiple_input[1])\n",
    "\n",
    "    x2 = int(first_multiple_input[2])\n",
    "\n",
    "    v2 = int(first_multiple_input[3])\n",
    "\n",
    "    result = kangaroo(x1, v1, x2, v2)\n",
    "\n",
    "    fptr.write(result + '\\n')\n",
    "\n",
    "    fptr.close()\n"
   ]
  },
  {
   "cell_type": "markdown",
   "id": "50cb9354",
   "metadata": {},
   "source": [
    "#### Viral Advertising"
   ]
  },
  {
   "cell_type": "code",
   "execution_count": null,
   "id": "c11c0704",
   "metadata": {},
   "outputs": [],
   "source": [
    "#!/bin/python3\n",
    "\n",
    "import math\n",
    "import os\n",
    "import random\n",
    "import re\n",
    "import sys\n",
    "import math as ma\n",
    "\n",
    "def viralAdvertising(n):\n",
    "    \n",
    "    pep = 5\n",
    "    like = 0\n",
    "    count = 0\n",
    "    \n",
    "    for i in range(n): \n",
    "        \n",
    "        like = ma.floor(pep/2)\n",
    "        \n",
    "        count = count +like\n",
    "        \n",
    "        pep=like*3\n",
    "         \n",
    "    return(count)\n",
    "\n",
    "if __name__ == '__main__':\n",
    "    fptr = open(os.environ['OUTPUT_PATH'], 'w')\n",
    "\n",
    "    n = int(input().strip())\n",
    "\n",
    "    result = viralAdvertising(n)\n",
    "\n",
    "    fptr.write(str(result) + '\\n')\n",
    "\n",
    "    fptr.close()\n"
   ]
  },
  {
   "cell_type": "markdown",
   "id": "2e5402b6",
   "metadata": {},
   "source": [
    "#### Recursive Digit Sum"
   ]
  },
  {
   "cell_type": "code",
   "execution_count": null,
   "id": "31ee8cdb",
   "metadata": {},
   "outputs": [],
   "source": [
    "#!/bin/python3\n",
    "\n",
    "import math\n",
    "import os\n",
    "import random\n",
    "import re\n",
    "import sys\n",
    "\n",
    "def superDigit(n, k):\n",
    "    \n",
    "    if(len(n)==1 and k==1):\n",
    "        \n",
    "        return int(n)\n",
    "    \n",
    "    else:\n",
    "        \n",
    "        somma = sum(list(map(int,n)))\n",
    "        \n",
    "        return superDigit(str(somma*k), 1)\n",
    "        \n",
    "    \n",
    "    \n",
    "    \n",
    "    \n",
    "    \n",
    "    \n",
    "    \n",
    "        \n",
    "if __name__ == '__main__':\n",
    "    fptr = open(os.environ['OUTPUT_PATH'], 'w')\n",
    "\n",
    "    first_multiple_input = input().rstrip().split()\n",
    "\n",
    "    n = first_multiple_input[0]\n",
    "\n",
    "    k = int(first_multiple_input[1])\n",
    "\n",
    "    result = superDigit(n, k)\n",
    "\n",
    "    fptr.write(str(result) + '\\n')\n",
    "\n",
    "    fptr.close()\n"
   ]
  },
  {
   "cell_type": "markdown",
   "id": "1128d744",
   "metadata": {},
   "source": [
    "#### Insertion Sort - Part 1"
   ]
  },
  {
   "cell_type": "code",
   "execution_count": null,
   "id": "7c6f3b8e",
   "metadata": {},
   "outputs": [],
   "source": [
    "#i checked the solution to understand how to better implement\n",
    "import math\n",
    "import os\n",
    "import random\n",
    "import re\n",
    "import sys\n",
    "\n",
    "def insertionSort1(n, arr):\n",
    "\n",
    "    x = arr[n-1]\n",
    "    \n",
    "    j = n-2\n",
    "\n",
    "    while (x < arr[j]) and (j >= 0):\n",
    "        \n",
    "        arr[j+1] = arr[j]\n",
    "        \n",
    "        j -= 1\n",
    "        \n",
    "        b = [str(a) for a in arr]\n",
    "        \n",
    "        print(\" \".join(b))\n",
    "\n",
    "    arr[j+1] = x\n",
    "    \n",
    "    b = [str(a) for a in arr]\n",
    "    \n",
    "    print(\" \".join(b))\n",
    "            \n",
    "            \n",
    "    \n",
    "            \n",
    "            \n",
    "    \n",
    "    \n",
    "        \n",
    "if __name__ == '__main__':\n",
    "    n = int(input().strip())\n",
    "\n",
    "    arr = list(map(int, input().rstrip().split()))\n",
    "\n",
    "    insertionSort1(n, arr)\n"
   ]
  },
  {
   "cell_type": "markdown",
   "id": "9fe61b8e",
   "metadata": {},
   "source": [
    "#### Insertion Sort - Part 2"
   ]
  },
  {
   "cell_type": "code",
   "execution_count": null,
   "id": "7035b44f",
   "metadata": {},
   "outputs": [],
   "source": [
    "import math\n",
    "import os\n",
    "import random\n",
    "import re\n",
    "import sys\n",
    "\n",
    "def insertionSort2(n, arr):\n",
    "\n",
    "    for i in range(1,n):\n",
    "        \n",
    "        for j in range(i):\n",
    "            \n",
    "            if arr[j] > arr[i]:\n",
    "                \n",
    "                arr[i], arr[j] = arr[j], arr[i]\n",
    "                \n",
    "        print(*arr)\n",
    "        \n",
    "        \n",
    "        \n",
    "        \n",
    "if __name__ == '__main__':\n",
    "    n = int(input().strip())\n",
    "\n",
    "    arr = list(map(int, input().rstrip().split()))\n",
    "\n",
    "    insertionSort2(n, arr)\n"
   ]
  },
  {
   "cell_type": "markdown",
   "id": "7af70ada",
   "metadata": {},
   "source": [
    "#### sWAP cASE"
   ]
  },
  {
   "cell_type": "code",
   "execution_count": null,
   "id": "fe4fe66c",
   "metadata": {},
   "outputs": [],
   "source": [
    "def swap_case(s):\n",
    "    \n",
    "    string = s.split()\n",
    "    \n",
    "    modified = []\n",
    "    \n",
    "    for words in string: \n",
    "        \n",
    "        letters = list(words)\n",
    "        \n",
    "        for i in range(len(letters)):\n",
    "            \n",
    "            if letters[i].isdigit() == False: \n",
    "                \n",
    "                if letters[i].islower() == True: \n",
    "                    \n",
    "                     letters[i]= letters[i].upper()\n",
    "                    \n",
    "                    \n",
    "                else: \n",
    "                    \n",
    "                    letters[i] = letters[i].lower()\n",
    "    \n",
    "            else:\n",
    "                \n",
    "                pass\n",
    "            \n",
    "        modified.append(\"\".join(letters))\n",
    "    \n",
    "    return(\" \".join(modified))\n",
    "\n"
   ]
  },
  {
   "cell_type": "markdown",
   "id": "99ccc8f5",
   "metadata": {},
   "source": [
    "#### Designer Door Mat"
   ]
  },
  {
   "cell_type": "code",
   "execution_count": null,
   "id": "af041ef9",
   "metadata": {},
   "outputs": [],
   "source": [
    "N, M = map(int, input().split(\" \"))\n",
    "\n",
    "for i in range(1, N, 2):\n",
    "    \n",
    "    print((i * \".|.\").center(M,\"-\"))\n",
    "    \n",
    "print(\"WELCOME\".center(M, \"-\"))\n",
    "\n",
    "for i in range(N-2, -1, -2):\n",
    "    \n",
    "    print((i * \".|.\").center(M, \"-\"))\n"
   ]
  },
  {
   "cell_type": "markdown",
   "id": "b154f477",
   "metadata": {},
   "source": [
    "#### Merge the Tools!"
   ]
  },
  {
   "cell_type": "code",
   "execution_count": null,
   "id": "b4b826c1",
   "metadata": {},
   "outputs": [],
   "source": [
    "def merge_the_tools(string, k):\n",
    "    \n",
    "    \n",
    "    \n",
    "    l = []\n",
    "    \n",
    "    len_l = 0\n",
    "    \n",
    "    for i in string: \n",
    "        \n",
    "        len_l += 1\n",
    "        \n",
    "        if i not in l:  \n",
    "            \n",
    "            l.append(i)\n",
    "            \n",
    "        if len_l == k:\n",
    "            \n",
    "            print(\"\".join(l))\n",
    "            \n",
    "            l = []\n",
    "            \n",
    "            len_l = 0\n",
    "            \n",
    "            \n",
    "    \n",
    "\n",
    "            \n",
    "        \n",
    "\n"
   ]
  },
  {
   "cell_type": "markdown",
   "id": "8a1be268",
   "metadata": {},
   "source": [
    "#### Merge the Tools!"
   ]
  },
  {
   "cell_type": "code",
   "execution_count": null,
   "id": "99c43553",
   "metadata": {},
   "outputs": [],
   "source": [
    "def merge_the_tools(string, k):\n",
    "    \n",
    "    \n",
    "    \n",
    "    l = []\n",
    "    \n",
    "    len_l = 0\n",
    "    \n",
    "    for i in string: \n",
    "        \n",
    "        len_l += 1\n",
    "        \n",
    "        if i not in l:  \n",
    "            \n",
    "            l.append(i)\n",
    "            \n",
    "        if len_l == k:\n",
    "            \n",
    "            print(\"\".join(l))\n",
    "            \n",
    "            l = []\n",
    "            \n",
    "            len_l = 0\n",
    "            \n",
    "            \n",
    "    \n",
    "\n",
    "            \n",
    "        \n",
    "\n"
   ]
  },
  {
   "cell_type": "markdown",
   "id": "081a5fd8",
   "metadata": {},
   "source": [
    "#### DefaultDict Tutorial"
   ]
  },
  {
   "cell_type": "code",
   "execution_count": null,
   "id": "dd78b4ca",
   "metadata": {},
   "outputs": [],
   "source": [
    "from collections import defaultdict\n",
    "\n",
    "n, m = map(int, input().split())\n",
    "\n",
    "d = defaultdict(list)\n",
    "\n",
    "for i in range(1, n+1): \n",
    "    \n",
    "    x = input()\n",
    "    \n",
    "    d[x].append(i)\n",
    "\n",
    "for i in range(m): \n",
    "    \n",
    "    y = input()\n",
    "    \n",
    "    if y in d: \n",
    "        \n",
    "        print(*d[y])\n",
    "        \n",
    "    else: \n",
    "        \n",
    "        print(-1)\n",
    "        \n"
   ]
  }
 ],
 "metadata": {
  "kernelspec": {
   "display_name": "Python 3 (ipykernel)",
   "language": "python",
   "name": "python3"
  },
  "language_info": {
   "codemirror_mode": {
    "name": "ipython",
    "version": 3
   },
   "file_extension": ".py",
   "mimetype": "text/x-python",
   "name": "python",
   "nbconvert_exporter": "python",
   "pygments_lexer": "ipython3",
   "version": "3.9.12"
  }
 },
 "nbformat": 4,
 "nbformat_minor": 5
}
